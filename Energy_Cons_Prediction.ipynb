{
  "nbformat": 4,
  "nbformat_minor": 0,
  "metadata": {
    "colab": {
      "name": "Energy_Cons_Prediction.ipynb",
      "provenance": [],
      "collapsed_sections": [],
      "authorship_tag": "ABX9TyNh5yCuNgE2Hjur/C7V/ZSn",
      "include_colab_link": true
    },
    "kernelspec": {
      "name": "python3",
      "display_name": "Python 3"
    },
    "language_info": {
      "name": "python"
    }
  },
  "cells": [
    {
      "cell_type": "markdown",
      "metadata": {
        "id": "view-in-github",
        "colab_type": "text"
      },
      "source": [
        "<a href=\"https://colab.research.google.com/github/Phoestia/Energy_Consumption_Prediction/blob/main/Energy_Cons_Prediction.ipynb\" target=\"_parent\"><img src=\"https://colab.research.google.com/assets/colab-badge.svg\" alt=\"Open In Colab\"/></a>"
      ]
    },
    {
      "cell_type": "markdown",
      "source": [
        "### Task requirement\n",
        "\n",
        "*   Leveraging the dataset: https://www.eia.gov/consumption/residential/data/2009/index.php?view=microdata\n",
        "*   Build a model that predicts consumption\n",
        "*   The electric consumption is located in the KWH field."
      ],
      "metadata": {
        "id": "xfB0JQw9mOIJ"
      }
    },
    {
      "cell_type": "code",
      "execution_count": 62,
      "metadata": {
        "colab": {
          "base_uri": "https://localhost:8080/"
        },
        "id": "JxOUlWhwe4bU",
        "outputId": "a0a0c10e-28c7-4a39-c814-50f6be36f8c3"
      },
      "outputs": [
        {
          "output_type": "stream",
          "name": "stdout",
          "text": [
            "Looking in indexes: https://pypi.org/simple, https://us-python.pkg.dev/colab-wheels/public/simple/\n",
            "Requirement already satisfied: category_encoders in /usr/local/lib/python3.7/dist-packages (2.5.0)\n",
            "Requirement already satisfied: pandas>=1.0.5 in /usr/local/lib/python3.7/dist-packages (from category_encoders) (1.3.5)\n",
            "Requirement already satisfied: scipy>=1.0.0 in /usr/local/lib/python3.7/dist-packages (from category_encoders) (1.7.3)\n",
            "Requirement already satisfied: numpy>=1.14.0 in /usr/local/lib/python3.7/dist-packages (from category_encoders) (1.21.6)\n",
            "Requirement already satisfied: scikit-learn>=0.20.0 in /usr/local/lib/python3.7/dist-packages (from category_encoders) (1.0.2)\n",
            "Requirement already satisfied: patsy>=0.5.1 in /usr/local/lib/python3.7/dist-packages (from category_encoders) (0.5.2)\n",
            "Requirement already satisfied: statsmodels>=0.9.0 in /usr/local/lib/python3.7/dist-packages (from category_encoders) (0.10.2)\n",
            "Requirement already satisfied: pytz>=2017.3 in /usr/local/lib/python3.7/dist-packages (from pandas>=1.0.5->category_encoders) (2022.1)\n",
            "Requirement already satisfied: python-dateutil>=2.7.3 in /usr/local/lib/python3.7/dist-packages (from pandas>=1.0.5->category_encoders) (2.8.2)\n",
            "Requirement already satisfied: six in /usr/local/lib/python3.7/dist-packages (from patsy>=0.5.1->category_encoders) (1.15.0)\n",
            "Requirement already satisfied: joblib>=0.11 in /usr/local/lib/python3.7/dist-packages (from scikit-learn>=0.20.0->category_encoders) (1.1.0)\n",
            "Requirement already satisfied: threadpoolctl>=2.0.0 in /usr/local/lib/python3.7/dist-packages (from scikit-learn>=0.20.0->category_encoders) (3.1.0)\n"
          ]
        }
      ],
      "source": [
        "import pandas as pd\n",
        "import numpy as np\n",
        "import matplotlib as mpl\n",
        "import matplotlib.pyplot as plt\n",
        "import seaborn as sns\n",
        "\n",
        "from sklearn.pipeline import Pipeline\n",
        "from sklearn.feature_selection import SelectPercentile, chi2\n",
        "from sklearn.model_selection import GridSearchCV, cross_val_score, StratifiedShuffleSplit, StratifiedKFold, learning_curve, train_test_split\n",
        "\n",
        "from sklearn.preprocessing import MinMaxScaler, OrdinalEncoder, OneHotEncoder, StandardScaler, LabelEncoder,OrdinalEncoder\n",
        "!pip install category_encoders\n",
        "from category_encoders import TargetEncoder\n",
        "from sklearn.impute import SimpleImputer\n",
        "from sklearn.experimental import enable_iterative_imputer\n",
        "from sklearn.impute import IterativeImputer\n",
        "\n",
        "from sklearn.linear_model import LinearRegression\n",
        "from sklearn.ensemble import StackingRegressor\n",
        "from sklearn.ensemble import GradientBoostingRegressor\n",
        "from sklearn.linear_model import RidgeCV\n",
        "\n",
        "from sklearn import model_selection\n",
        "from sklearn import metrics\n"
      ]
    },
    {
      "cell_type": "markdown",
      "source": [
        "### Load Raw data"
      ],
      "metadata": {
        "id": "kaWwIHONg1Pp"
      }
    },
    {
      "cell_type": "code",
      "source": [
        "Survey_Data_path = 'https://www.eia.gov/consumption/residential/data/2009/csv/recs2009_public.csv'\n",
        "Survey_Data =  pd.read_csv(Survey_Data_path, sep=\",\")\n",
        "Survey_Data.drop(columns=[\"DOEID\"],inplace=True) # drop id\n",
        "\n",
        "Survey_Data.head()"
      ],
      "metadata": {
        "colab": {
          "base_uri": "https://localhost:8080/",
          "height": 271
        },
        "id": "5CZCRujIe9uh",
        "outputId": "95a5ec12-536b-49cd-ac5a-d969da60e01b"
      },
      "execution_count": 46,
      "outputs": [
        {
          "output_type": "stream",
          "name": "stderr",
          "text": [
            "/usr/local/lib/python3.7/dist-packages/IPython/core/interactiveshell.py:2882: DtypeWarning: Columns (717,718) have mixed types.Specify dtype option on import or set low_memory=False.\n",
            "  exec(code_obj, self.user_global_ns, self.user_ns)\n"
          ]
        },
        {
          "output_type": "execute_result",
          "data": {
            "text/plain": [
              "   REGIONC  DIVISION  REPORTABLE_DOMAIN  TYPEHUQ   NWEIGHT  HDD65  CDD65  \\\n",
              "0        2         4                 12        2   2471.68   4742   1080   \n",
              "1        4        10                 26        2   8599.17   2662    199   \n",
              "2        1         1                  1        5   8969.92   6233    505   \n",
              "3        2         3                  7        2  18003.64   6034    672   \n",
              "4        1         1                  1        3   5999.61   5388    702   \n",
              "\n",
              "   HDD30YR  CDD30YR  Climate_Region_Pub  ...  SCALEKER IECC_Climate_Pub HDD50  \\\n",
              "0     4953     1271                   4  ...        -2               4A  2117   \n",
              "1     2688      143                   5  ...        -2               3C    62   \n",
              "2     5741      829                   1  ...        -2               5A  2346   \n",
              "3     5781      868                   1  ...        -2               5A  2746   \n",
              "4     5313      797                   1  ...        -2               5A  2251   \n",
              "\n",
              "   CDD80  GND_HDD65   WSF  OA_LAT  GWT  DesignDBT99  DesignDBT1  \n",
              "0     56       4250  0.48       6   56            9          96  \n",
              "1     26       2393  0.61       0   64           38          73  \n",
              "2     49       5654  0.48       3   52           12          88  \n",
              "3      0       4941  0.55       4   55            7          87  \n",
              "4      0       5426  0.61       4   50           13          90  \n",
              "\n",
              "[5 rows x 939 columns]"
            ],
            "text/html": [
              "\n",
              "  <div id=\"df-22e6d3d3-200a-48db-b92d-796bfd15f474\">\n",
              "    <div class=\"colab-df-container\">\n",
              "      <div>\n",
              "<style scoped>\n",
              "    .dataframe tbody tr th:only-of-type {\n",
              "        vertical-align: middle;\n",
              "    }\n",
              "\n",
              "    .dataframe tbody tr th {\n",
              "        vertical-align: top;\n",
              "    }\n",
              "\n",
              "    .dataframe thead th {\n",
              "        text-align: right;\n",
              "    }\n",
              "</style>\n",
              "<table border=\"1\" class=\"dataframe\">\n",
              "  <thead>\n",
              "    <tr style=\"text-align: right;\">\n",
              "      <th></th>\n",
              "      <th>REGIONC</th>\n",
              "      <th>DIVISION</th>\n",
              "      <th>REPORTABLE_DOMAIN</th>\n",
              "      <th>TYPEHUQ</th>\n",
              "      <th>NWEIGHT</th>\n",
              "      <th>HDD65</th>\n",
              "      <th>CDD65</th>\n",
              "      <th>HDD30YR</th>\n",
              "      <th>CDD30YR</th>\n",
              "      <th>Climate_Region_Pub</th>\n",
              "      <th>...</th>\n",
              "      <th>SCALEKER</th>\n",
              "      <th>IECC_Climate_Pub</th>\n",
              "      <th>HDD50</th>\n",
              "      <th>CDD80</th>\n",
              "      <th>GND_HDD65</th>\n",
              "      <th>WSF</th>\n",
              "      <th>OA_LAT</th>\n",
              "      <th>GWT</th>\n",
              "      <th>DesignDBT99</th>\n",
              "      <th>DesignDBT1</th>\n",
              "    </tr>\n",
              "  </thead>\n",
              "  <tbody>\n",
              "    <tr>\n",
              "      <th>0</th>\n",
              "      <td>2</td>\n",
              "      <td>4</td>\n",
              "      <td>12</td>\n",
              "      <td>2</td>\n",
              "      <td>2471.68</td>\n",
              "      <td>4742</td>\n",
              "      <td>1080</td>\n",
              "      <td>4953</td>\n",
              "      <td>1271</td>\n",
              "      <td>4</td>\n",
              "      <td>...</td>\n",
              "      <td>-2</td>\n",
              "      <td>4A</td>\n",
              "      <td>2117</td>\n",
              "      <td>56</td>\n",
              "      <td>4250</td>\n",
              "      <td>0.48</td>\n",
              "      <td>6</td>\n",
              "      <td>56</td>\n",
              "      <td>9</td>\n",
              "      <td>96</td>\n",
              "    </tr>\n",
              "    <tr>\n",
              "      <th>1</th>\n",
              "      <td>4</td>\n",
              "      <td>10</td>\n",
              "      <td>26</td>\n",
              "      <td>2</td>\n",
              "      <td>8599.17</td>\n",
              "      <td>2662</td>\n",
              "      <td>199</td>\n",
              "      <td>2688</td>\n",
              "      <td>143</td>\n",
              "      <td>5</td>\n",
              "      <td>...</td>\n",
              "      <td>-2</td>\n",
              "      <td>3C</td>\n",
              "      <td>62</td>\n",
              "      <td>26</td>\n",
              "      <td>2393</td>\n",
              "      <td>0.61</td>\n",
              "      <td>0</td>\n",
              "      <td>64</td>\n",
              "      <td>38</td>\n",
              "      <td>73</td>\n",
              "    </tr>\n",
              "    <tr>\n",
              "      <th>2</th>\n",
              "      <td>1</td>\n",
              "      <td>1</td>\n",
              "      <td>1</td>\n",
              "      <td>5</td>\n",
              "      <td>8969.92</td>\n",
              "      <td>6233</td>\n",
              "      <td>505</td>\n",
              "      <td>5741</td>\n",
              "      <td>829</td>\n",
              "      <td>1</td>\n",
              "      <td>...</td>\n",
              "      <td>-2</td>\n",
              "      <td>5A</td>\n",
              "      <td>2346</td>\n",
              "      <td>49</td>\n",
              "      <td>5654</td>\n",
              "      <td>0.48</td>\n",
              "      <td>3</td>\n",
              "      <td>52</td>\n",
              "      <td>12</td>\n",
              "      <td>88</td>\n",
              "    </tr>\n",
              "    <tr>\n",
              "      <th>3</th>\n",
              "      <td>2</td>\n",
              "      <td>3</td>\n",
              "      <td>7</td>\n",
              "      <td>2</td>\n",
              "      <td>18003.64</td>\n",
              "      <td>6034</td>\n",
              "      <td>672</td>\n",
              "      <td>5781</td>\n",
              "      <td>868</td>\n",
              "      <td>1</td>\n",
              "      <td>...</td>\n",
              "      <td>-2</td>\n",
              "      <td>5A</td>\n",
              "      <td>2746</td>\n",
              "      <td>0</td>\n",
              "      <td>4941</td>\n",
              "      <td>0.55</td>\n",
              "      <td>4</td>\n",
              "      <td>55</td>\n",
              "      <td>7</td>\n",
              "      <td>87</td>\n",
              "    </tr>\n",
              "    <tr>\n",
              "      <th>4</th>\n",
              "      <td>1</td>\n",
              "      <td>1</td>\n",
              "      <td>1</td>\n",
              "      <td>3</td>\n",
              "      <td>5999.61</td>\n",
              "      <td>5388</td>\n",
              "      <td>702</td>\n",
              "      <td>5313</td>\n",
              "      <td>797</td>\n",
              "      <td>1</td>\n",
              "      <td>...</td>\n",
              "      <td>-2</td>\n",
              "      <td>5A</td>\n",
              "      <td>2251</td>\n",
              "      <td>0</td>\n",
              "      <td>5426</td>\n",
              "      <td>0.61</td>\n",
              "      <td>4</td>\n",
              "      <td>50</td>\n",
              "      <td>13</td>\n",
              "      <td>90</td>\n",
              "    </tr>\n",
              "  </tbody>\n",
              "</table>\n",
              "<p>5 rows × 939 columns</p>\n",
              "</div>\n",
              "      <button class=\"colab-df-convert\" onclick=\"convertToInteractive('df-22e6d3d3-200a-48db-b92d-796bfd15f474')\"\n",
              "              title=\"Convert this dataframe to an interactive table.\"\n",
              "              style=\"display:none;\">\n",
              "        \n",
              "  <svg xmlns=\"http://www.w3.org/2000/svg\" height=\"24px\"viewBox=\"0 0 24 24\"\n",
              "       width=\"24px\">\n",
              "    <path d=\"M0 0h24v24H0V0z\" fill=\"none\"/>\n",
              "    <path d=\"M18.56 5.44l.94 2.06.94-2.06 2.06-.94-2.06-.94-.94-2.06-.94 2.06-2.06.94zm-11 1L8.5 8.5l.94-2.06 2.06-.94-2.06-.94L8.5 2.5l-.94 2.06-2.06.94zm10 10l.94 2.06.94-2.06 2.06-.94-2.06-.94-.94-2.06-.94 2.06-2.06.94z\"/><path d=\"M17.41 7.96l-1.37-1.37c-.4-.4-.92-.59-1.43-.59-.52 0-1.04.2-1.43.59L10.3 9.45l-7.72 7.72c-.78.78-.78 2.05 0 2.83L4 21.41c.39.39.9.59 1.41.59.51 0 1.02-.2 1.41-.59l7.78-7.78 2.81-2.81c.8-.78.8-2.07 0-2.86zM5.41 20L4 18.59l7.72-7.72 1.47 1.35L5.41 20z\"/>\n",
              "  </svg>\n",
              "      </button>\n",
              "      \n",
              "  <style>\n",
              "    .colab-df-container {\n",
              "      display:flex;\n",
              "      flex-wrap:wrap;\n",
              "      gap: 12px;\n",
              "    }\n",
              "\n",
              "    .colab-df-convert {\n",
              "      background-color: #E8F0FE;\n",
              "      border: none;\n",
              "      border-radius: 50%;\n",
              "      cursor: pointer;\n",
              "      display: none;\n",
              "      fill: #1967D2;\n",
              "      height: 32px;\n",
              "      padding: 0 0 0 0;\n",
              "      width: 32px;\n",
              "    }\n",
              "\n",
              "    .colab-df-convert:hover {\n",
              "      background-color: #E2EBFA;\n",
              "      box-shadow: 0px 1px 2px rgba(60, 64, 67, 0.3), 0px 1px 3px 1px rgba(60, 64, 67, 0.15);\n",
              "      fill: #174EA6;\n",
              "    }\n",
              "\n",
              "    [theme=dark] .colab-df-convert {\n",
              "      background-color: #3B4455;\n",
              "      fill: #D2E3FC;\n",
              "    }\n",
              "\n",
              "    [theme=dark] .colab-df-convert:hover {\n",
              "      background-color: #434B5C;\n",
              "      box-shadow: 0px 1px 3px 1px rgba(0, 0, 0, 0.15);\n",
              "      filter: drop-shadow(0px 1px 2px rgba(0, 0, 0, 0.3));\n",
              "      fill: #FFFFFF;\n",
              "    }\n",
              "  </style>\n",
              "\n",
              "      <script>\n",
              "        const buttonEl =\n",
              "          document.querySelector('#df-22e6d3d3-200a-48db-b92d-796bfd15f474 button.colab-df-convert');\n",
              "        buttonEl.style.display =\n",
              "          google.colab.kernel.accessAllowed ? 'block' : 'none';\n",
              "\n",
              "        async function convertToInteractive(key) {\n",
              "          const element = document.querySelector('#df-22e6d3d3-200a-48db-b92d-796bfd15f474');\n",
              "          const dataTable =\n",
              "            await google.colab.kernel.invokeFunction('convertToInteractive',\n",
              "                                                     [key], {});\n",
              "          if (!dataTable) return;\n",
              "\n",
              "          const docLinkHtml = 'Like what you see? Visit the ' +\n",
              "            '<a target=\"_blank\" href=https://colab.research.google.com/notebooks/data_table.ipynb>data table notebook</a>'\n",
              "            + ' to learn more about interactive tables.';\n",
              "          element.innerHTML = '';\n",
              "          dataTable['output_type'] = 'display_data';\n",
              "          await google.colab.output.renderOutput(dataTable, element);\n",
              "          const docLink = document.createElement('div');\n",
              "          docLink.innerHTML = docLinkHtml;\n",
              "          element.appendChild(docLink);\n",
              "        }\n",
              "      </script>\n",
              "    </div>\n",
              "  </div>\n",
              "  "
            ]
          },
          "metadata": {},
          "execution_count": 46
        }
      ]
    },
    {
      "cell_type": "code",
      "source": [
        "Survey_Data['KWH'].hist()"
      ],
      "metadata": {
        "colab": {
          "base_uri": "https://localhost:8080/",
          "height": 283
        },
        "id": "fTLs1M2-W2JF",
        "outputId": "3fd9e239-eb56-4ad3-b130-f3185569ce91"
      },
      "execution_count": 27,
      "outputs": [
        {
          "output_type": "execute_result",
          "data": {
            "text/plain": [
              "<matplotlib.axes._subplots.AxesSubplot at 0x7f5f4efdf150>"
            ]
          },
          "metadata": {},
          "execution_count": 27
        },
        {
          "output_type": "display_data",
          "data": {
            "text/plain": [
              "<Figure size 432x288 with 1 Axes>"
            ],
            "image/png": "[encoded data removed]"
          },
          "metadata": {
            "needs_background": "light"
          }
        }
      ]
    },
    {
      "cell_type": "code",
      "source": [
        "# quick missing value detection\n",
        "Survey_Data.isnull().values.any()\n",
        "Survey_Data.isnull().sum().sum()\n",
        "# no missing value was found"
      ],
      "metadata": {
        "colab": {
          "base_uri": "https://localhost:8080/"
        },
        "id": "DFRVIa40gW3y",
        "outputId": "8914d08b-199f-433b-b877-079b1a760c79"
      },
      "execution_count": 6,
      "outputs": [
        {
          "output_type": "execute_result",
          "data": {
            "text/plain": [
              "0"
            ]
          },
          "metadata": {},
          "execution_count": 6
        }
      ]
    },
    {
      "cell_type": "code",
      "source": [
        "# # load layout file\n",
        "# Layout_file_path = 'https://www.eia.gov/consumption/residential/data/2009/csv/public_layout.csv'\n",
        "# Layout_Data =  pd.read_csv(Layout_file_path, sep=\",\")\n",
        "# Layout_Data.head()"
      ],
      "metadata": {
        "id": "qH_KjG_mhxko"
      },
      "execution_count": 28,
      "outputs": []
    },
    {
      "cell_type": "code",
      "source": [
        "# check correlation\n",
        "def get_high_corr_df(df,positive_threshold=0.4):\n",
        "  corr = df.corr().stack().reset_index().drop_duplicates()\n",
        "  corr.columns = ['FEATURE_1', 'FEATURE_2', 'CORRELATION']\n",
        "  high_corr = corr[((corr['FEATURE_1'] != corr['FEATURE_2'] ) & (abs(corr['CORRELATION']) >= positive_threshold))]\n",
        "  return high_corr\n",
        "\n",
        "high_corr = get_high_corr_df(Survey_Data)\n",
        "high_corr[((high_corr['FEATURE_1'] == 'KWH'))].sort_values(by = ['CORRELATION'],ascending=False)"
      ],
      "metadata": {
        "colab": {
          "base_uri": "https://localhost:8080/",
          "height": 677
        },
        "id": "dotb1JlHXsgX",
        "outputId": "1d369e5e-e3d1-43ab-fa34-6e3f2f8e6e1b"
      },
      "execution_count": 52,
      "outputs": [
        {
          "output_type": "execute_result",
          "data": {
            "text/plain": [
              "       FEATURE_1    FEATURE_2  CORRELATION\n",
              "100641       KWH     DOLLAREL     0.868712\n",
              "100646       KWH     DOLELOTH     0.702251\n",
              "100664       KWH  TOTALBTUOTH     0.676108\n",
              "100670       KWH  TOTALDOLOTH     0.655742\n",
              "100661       KWH  TOTALBTUCOL     0.655103\n",
              "100663       KWH  TOTALBTURFG     0.638621\n",
              "100665       KWH     TOTALDOL     0.627922\n",
              "100667       KWH  TOTALDOLCOL     0.601628\n",
              "100643       KWH     DOLELCOL     0.601626\n",
              "100644       KWH     DOLELWTH     0.514613\n",
              "100638       KWH     TOTCSQFT     0.484042\n",
              "100642       KWH     DOLELSPH     0.452504\n",
              "100370       KWH     TOTROOMS     0.439167\n",
              "100668       KWH  TOTALDOLWTH     0.437826\n",
              "100549       KWH      ACROOMS     0.435835\n",
              "100645       KWH     DOLELRFG     0.433472\n",
              "100669       KWH  TOTALDOLRFG     0.433450\n",
              "100367       KWH     NCOMBATH     0.420556\n",
              "100636       KWH     TOTHSQFT     0.410385\n",
              "100366       KWH     BEDROOMS     0.403322"
            ],
            "text/html": [
              "\n",
              "  <div id=\"df-d13a4867-041f-4981-9d5d-e533c8bd6d54\">\n",
              "    <div class=\"colab-df-container\">\n",
              "      <div>\n",
              "<style scoped>\n",
              "    .dataframe tbody tr th:only-of-type {\n",
              "        vertical-align: middle;\n",
              "    }\n",
              "\n",
              "    .dataframe tbody tr th {\n",
              "        vertical-align: top;\n",
              "    }\n",
              "\n",
              "    .dataframe thead th {\n",
              "        text-align: right;\n",
              "    }\n",
              "</style>\n",
              "<table border=\"1\" class=\"dataframe\">\n",
              "  <thead>\n",
              "    <tr style=\"text-align: right;\">\n",
              "      <th></th>\n",
              "      <th>FEATURE_1</th>\n",
              "      <th>FEATURE_2</th>\n",
              "      <th>CORRELATION</th>\n",
              "    </tr>\n",
              "  </thead>\n",
              "  <tbody>\n",
              "    <tr>\n",
              "      <th>100641</th>\n",
              "      <td>KWH</td>\n",
              "      <td>DOLLAREL</td>\n",
              "      <td>0.868712</td>\n",
              "    </tr>\n",
              "    <tr>\n",
              "      <th>100646</th>\n",
              "      <td>KWH</td>\n",
              "      <td>DOLELOTH</td>\n",
              "      <td>0.702251</td>\n",
              "    </tr>\n",
              "    <tr>\n",
              "      <th>100664</th>\n",
              "      <td>KWH</td>\n",
              "      <td>TOTALBTUOTH</td>\n",
              "      <td>0.676108</td>\n",
              "    </tr>\n",
              "    <tr>\n",
              "      <th>100670</th>\n",
              "      <td>KWH</td>\n",
              "      <td>TOTALDOLOTH</td>\n",
              "      <td>0.655742</td>\n",
              "    </tr>\n",
              "    <tr>\n",
              "      <th>100661</th>\n",
              "      <td>KWH</td>\n",
              "      <td>TOTALBTUCOL</td>\n",
              "      <td>0.655103</td>\n",
              "    </tr>\n",
              "    <tr>\n",
              "      <th>100663</th>\n",
              "      <td>KWH</td>\n",
              "      <td>TOTALBTURFG</td>\n",
              "      <td>0.638621</td>\n",
              "    </tr>\n",
              "    <tr>\n",
              "      <th>100665</th>\n",
              "      <td>KWH</td>\n",
              "      <td>TOTALDOL</td>\n",
              "      <td>0.627922</td>\n",
              "    </tr>\n",
              "    <tr>\n",
              "      <th>100667</th>\n",
              "      <td>KWH</td>\n",
              "      <td>TOTALDOLCOL</td>\n",
              "      <td>0.601628</td>\n",
              "    </tr>\n",
              "    <tr>\n",
              "      <th>100643</th>\n",
              "      <td>KWH</td>\n",
              "      <td>DOLELCOL</td>\n",
              "      <td>0.601626</td>\n",
              "    </tr>\n",
              "    <tr>\n",
              "      <th>100644</th>\n",
              "      <td>KWH</td>\n",
              "      <td>DOLELWTH</td>\n",
              "      <td>0.514613</td>\n",
              "    </tr>\n",
              "    <tr>\n",
              "      <th>100638</th>\n",
              "      <td>KWH</td>\n",
              "      <td>TOTCSQFT</td>\n",
              "      <td>0.484042</td>\n",
              "    </tr>\n",
              "    <tr>\n",
              "      <th>100642</th>\n",
              "      <td>KWH</td>\n",
              "      <td>DOLELSPH</td>\n",
              "      <td>0.452504</td>\n",
              "    </tr>\n",
              "    <tr>\n",
              "      <th>100370</th>\n",
              "      <td>KWH</td>\n",
              "      <td>TOTROOMS</td>\n",
              "      <td>0.439167</td>\n",
              "    </tr>\n",
              "    <tr>\n",
              "      <th>100668</th>\n",
              "      <td>KWH</td>\n",
              "      <td>TOTALDOLWTH</td>\n",
              "      <td>0.437826</td>\n",
              "    </tr>\n",
              "    <tr>\n",
              "      <th>100549</th>\n",
              "      <td>KWH</td>\n",
              "      <td>ACROOMS</td>\n",
              "      <td>0.435835</td>\n",
              "    </tr>\n",
              "    <tr>\n",
              "      <th>100645</th>\n",
              "      <td>KWH</td>\n",
              "      <td>DOLELRFG</td>\n",
              "      <td>0.433472</td>\n",
              "    </tr>\n",
              "    <tr>\n",
              "      <th>100669</th>\n",
              "      <td>KWH</td>\n",
              "      <td>TOTALDOLRFG</td>\n",
              "      <td>0.433450</td>\n",
              "    </tr>\n",
              "    <tr>\n",
              "      <th>100367</th>\n",
              "      <td>KWH</td>\n",
              "      <td>NCOMBATH</td>\n",
              "      <td>0.420556</td>\n",
              "    </tr>\n",
              "    <tr>\n",
              "      <th>100636</th>\n",
              "      <td>KWH</td>\n",
              "      <td>TOTHSQFT</td>\n",
              "      <td>0.410385</td>\n",
              "    </tr>\n",
              "    <tr>\n",
              "      <th>100366</th>\n",
              "      <td>KWH</td>\n",
              "      <td>BEDROOMS</td>\n",
              "      <td>0.403322</td>\n",
              "    </tr>\n",
              "  </tbody>\n",
              "</table>\n",
              "</div>\n",
              "      <button class=\"colab-df-convert\" onclick=\"convertToInteractive('df-d13a4867-041f-4981-9d5d-e533c8bd6d54')\"\n",
              "              title=\"Convert this dataframe to an interactive table.\"\n",
              "              style=\"display:none;\">\n",
              "        \n",
              "  <svg xmlns=\"http://www.w3.org/2000/svg\" height=\"24px\"viewBox=\"0 0 24 24\"\n",
              "       width=\"24px\">\n",
              "    <path d=\"M0 0h24v24H0V0z\" fill=\"none\"/>\n",
              "    <path d=\"M18.56 5.44l.94 2.06.94-2.06 2.06-.94-2.06-.94-.94-2.06-.94 2.06-2.06.94zm-11 1L8.5 8.5l.94-2.06 2.06-.94-2.06-.94L8.5 2.5l-.94 2.06-2.06.94zm10 10l.94 2.06.94-2.06 2.06-.94-2.06-.94-.94-2.06-.94 2.06-2.06.94z\"/><path d=\"M17.41 7.96l-1.37-1.37c-.4-.4-.92-.59-1.43-.59-.52 0-1.04.2-1.43.59L10.3 9.45l-7.72 7.72c-.78.78-.78 2.05 0 2.83L4 21.41c.39.39.9.59 1.41.59.51 0 1.02-.2 1.41-.59l7.78-7.78 2.81-2.81c.8-.78.8-2.07 0-2.86zM5.41 20L4 18.59l7.72-7.72 1.47 1.35L5.41 20z\"/>\n",
              "  </svg>\n",
              "      </button>\n",
              "      \n",
              "  <style>\n",
              "    .colab-df-container {\n",
              "      display:flex;\n",
              "      flex-wrap:wrap;\n",
              "      gap: 12px;\n",
              "    }\n",
              "\n",
              "    .colab-df-convert {\n",
              "      background-color: #E8F0FE;\n",
              "      border: none;\n",
              "      border-radius: 50%;\n",
              "      cursor: pointer;\n",
              "      display: none;\n",
              "      fill: #1967D2;\n",
              "      height: 32px;\n",
              "      padding: 0 0 0 0;\n",
              "      width: 32px;\n",
              "    }\n",
              "\n",
              "    .colab-df-convert:hover {\n",
              "      background-color: #E2EBFA;\n",
              "      box-shadow: 0px 1px 2px rgba(60, 64, 67, 0.3), 0px 1px 3px 1px rgba(60, 64, 67, 0.15);\n",
              "      fill: #174EA6;\n",
              "    }\n",
              "\n",
              "    [theme=dark] .colab-df-convert {\n",
              "      background-color: #3B4455;\n",
              "      fill: #D2E3FC;\n",
              "    }\n",
              "\n",
              "    [theme=dark] .colab-df-convert:hover {\n",
              "      background-color: #434B5C;\n",
              "      box-shadow: 0px 1px 3px 1px rgba(0, 0, 0, 0.15);\n",
              "      filter: drop-shadow(0px 1px 2px rgba(0, 0, 0, 0.3));\n",
              "      fill: #FFFFFF;\n",
              "    }\n",
              "  </style>\n",
              "\n",
              "      <script>\n",
              "        const buttonEl =\n",
              "          document.querySelector('#df-d13a4867-041f-4981-9d5d-e533c8bd6d54 button.colab-df-convert');\n",
              "        buttonEl.style.display =\n",
              "          google.colab.kernel.accessAllowed ? 'block' : 'none';\n",
              "\n",
              "        async function convertToInteractive(key) {\n",
              "          const element = document.querySelector('#df-d13a4867-041f-4981-9d5d-e533c8bd6d54');\n",
              "          const dataTable =\n",
              "            await google.colab.kernel.invokeFunction('convertToInteractive',\n",
              "                                                     [key], {});\n",
              "          if (!dataTable) return;\n",
              "\n",
              "          const docLinkHtml = 'Like what you see? Visit the ' +\n",
              "            '<a target=\"_blank\" href=https://colab.research.google.com/notebooks/data_table.ipynb>data table notebook</a>'\n",
              "            + ' to learn more about interactive tables.';\n",
              "          element.innerHTML = '';\n",
              "          dataTable['output_type'] = 'display_data';\n",
              "          await google.colab.output.renderOutput(dataTable, element);\n",
              "          const docLink = document.createElement('div');\n",
              "          docLink.innerHTML = docLinkHtml;\n",
              "          element.appendChild(docLink);\n",
              "        }\n",
              "      </script>\n",
              "    </div>\n",
              "  </div>\n",
              "  "
            ]
          },
          "metadata": {},
          "execution_count": 52
        }
      ]
    },
    {
      "cell_type": "code",
      "source": [
        "high_corr.sort_values(by = ['CORRELATION'])"
      ],
      "metadata": {
        "colab": {
          "base_uri": "https://localhost:8080/",
          "height": 424
        },
        "id": "5UQ93EQ7Zniq",
        "outputId": "6c74b860-00e0-4066-ac85-994011a3237c"
      },
      "execution_count": 53,
      "outputs": [
        {
          "output_type": "execute_result",
          "data": {
            "text/plain": [
              "          FEATURE_1 FEATURE_2  CORRELATION\n",
              "67319         DNTAC   AIRCOND    -0.992073\n",
              "66981       AIRCOND     DNTAC    -0.992073\n",
              "67375         DNTAC    ELCOOL    -0.992073\n",
              "85965        ELCOOL     DNTAC    -0.992073\n",
              "2383        HDD30YR  AIA_Zone    -0.946773\n",
              "...             ...       ...          ...\n",
              "103364  CUFEETNGSPH  BTUNGSPH     1.000000\n",
              "103024     CUFEETNG     BTUNG     1.000000\n",
              "104376        BTUNG  CUFEETNG     1.000000\n",
              "67036       AIRCOND    ELCOOL     1.000000\n",
              "85964        ELCOOL   AIRCOND     1.000000\n",
              "\n",
              "[4436 rows x 3 columns]"
            ],
            "text/html": [
              "\n",
              "  <div id=\"df-dee2913b-ab38-4f17-8f49-f73e391b3892\">\n",
              "    <div class=\"colab-df-container\">\n",
              "      <div>\n",
              "<style scoped>\n",
              "    .dataframe tbody tr th:only-of-type {\n",
              "        vertical-align: middle;\n",
              "    }\n",
              "\n",
              "    .dataframe tbody tr th {\n",
              "        vertical-align: top;\n",
              "    }\n",
              "\n",
              "    .dataframe thead th {\n",
              "        text-align: right;\n",
              "    }\n",
              "</style>\n",
              "<table border=\"1\" class=\"dataframe\">\n",
              "  <thead>\n",
              "    <tr style=\"text-align: right;\">\n",
              "      <th></th>\n",
              "      <th>FEATURE_1</th>\n",
              "      <th>FEATURE_2</th>\n",
              "      <th>CORRELATION</th>\n",
              "    </tr>\n",
              "  </thead>\n",
              "  <tbody>\n",
              "    <tr>\n",
              "      <th>67319</th>\n",
              "      <td>DNTAC</td>\n",
              "      <td>AIRCOND</td>\n",
              "      <td>-0.992073</td>\n",
              "    </tr>\n",
              "    <tr>\n",
              "      <th>66981</th>\n",
              "      <td>AIRCOND</td>\n",
              "      <td>DNTAC</td>\n",
              "      <td>-0.992073</td>\n",
              "    </tr>\n",
              "    <tr>\n",
              "      <th>67375</th>\n",
              "      <td>DNTAC</td>\n",
              "      <td>ELCOOL</td>\n",
              "      <td>-0.992073</td>\n",
              "    </tr>\n",
              "    <tr>\n",
              "      <th>85965</th>\n",
              "      <td>ELCOOL</td>\n",
              "      <td>DNTAC</td>\n",
              "      <td>-0.992073</td>\n",
              "    </tr>\n",
              "    <tr>\n",
              "      <th>2383</th>\n",
              "      <td>HDD30YR</td>\n",
              "      <td>AIA_Zone</td>\n",
              "      <td>-0.946773</td>\n",
              "    </tr>\n",
              "    <tr>\n",
              "      <th>...</th>\n",
              "      <td>...</td>\n",
              "      <td>...</td>\n",
              "      <td>...</td>\n",
              "    </tr>\n",
              "    <tr>\n",
              "      <th>103364</th>\n",
              "      <td>CUFEETNGSPH</td>\n",
              "      <td>BTUNGSPH</td>\n",
              "      <td>1.000000</td>\n",
              "    </tr>\n",
              "    <tr>\n",
              "      <th>103024</th>\n",
              "      <td>CUFEETNG</td>\n",
              "      <td>BTUNG</td>\n",
              "      <td>1.000000</td>\n",
              "    </tr>\n",
              "    <tr>\n",
              "      <th>104376</th>\n",
              "      <td>BTUNG</td>\n",
              "      <td>CUFEETNG</td>\n",
              "      <td>1.000000</td>\n",
              "    </tr>\n",
              "    <tr>\n",
              "      <th>67036</th>\n",
              "      <td>AIRCOND</td>\n",
              "      <td>ELCOOL</td>\n",
              "      <td>1.000000</td>\n",
              "    </tr>\n",
              "    <tr>\n",
              "      <th>85964</th>\n",
              "      <td>ELCOOL</td>\n",
              "      <td>AIRCOND</td>\n",
              "      <td>1.000000</td>\n",
              "    </tr>\n",
              "  </tbody>\n",
              "</table>\n",
              "<p>4436 rows × 3 columns</p>\n",
              "</div>\n",
              "      <button class=\"colab-df-convert\" onclick=\"convertToInteractive('df-dee2913b-ab38-4f17-8f49-f73e391b3892')\"\n",
              "              title=\"Convert this dataframe to an interactive table.\"\n",
              "              style=\"display:none;\">\n",
              "        \n",
              "  <svg xmlns=\"http://www.w3.org/2000/svg\" height=\"24px\"viewBox=\"0 0 24 24\"\n",
              "       width=\"24px\">\n",
              "    <path d=\"M0 0h24v24H0V0z\" fill=\"none\"/>\n",
              "    <path d=\"M18.56 5.44l.94 2.06.94-2.06 2.06-.94-2.06-.94-.94-2.06-.94 2.06-2.06.94zm-11 1L8.5 8.5l.94-2.06 2.06-.94-2.06-.94L8.5 2.5l-.94 2.06-2.06.94zm10 10l.94 2.06.94-2.06 2.06-.94-2.06-.94-.94-2.06-.94 2.06-2.06.94z\"/><path d=\"M17.41 7.96l-1.37-1.37c-.4-.4-.92-.59-1.43-.59-.52 0-1.04.2-1.43.59L10.3 9.45l-7.72 7.72c-.78.78-.78 2.05 0 2.83L4 21.41c.39.39.9.59 1.41.59.51 0 1.02-.2 1.41-.59l7.78-7.78 2.81-2.81c.8-.78.8-2.07 0-2.86zM5.41 20L4 18.59l7.72-7.72 1.47 1.35L5.41 20z\"/>\n",
              "  </svg>\n",
              "      </button>\n",
              "      \n",
              "  <style>\n",
              "    .colab-df-container {\n",
              "      display:flex;\n",
              "      flex-wrap:wrap;\n",
              "      gap: 12px;\n",
              "    }\n",
              "\n",
              "    .colab-df-convert {\n",
              "      background-color: #E8F0FE;\n",
              "      border: none;\n",
              "      border-radius: 50%;\n",
              "      cursor: pointer;\n",
              "      display: none;\n",
              "      fill: #1967D2;\n",
              "      height: 32px;\n",
              "      padding: 0 0 0 0;\n",
              "      width: 32px;\n",
              "    }\n",
              "\n",
              "    .colab-df-convert:hover {\n",
              "      background-color: #E2EBFA;\n",
              "      box-shadow: 0px 1px 2px rgba(60, 64, 67, 0.3), 0px 1px 3px 1px rgba(60, 64, 67, 0.15);\n",
              "      fill: #174EA6;\n",
              "    }\n",
              "\n",
              "    [theme=dark] .colab-df-convert {\n",
              "      background-color: #3B4455;\n",
              "      fill: #D2E3FC;\n",
              "    }\n",
              "\n",
              "    [theme=dark] .colab-df-convert:hover {\n",
              "      background-color: #434B5C;\n",
              "      box-shadow: 0px 1px 3px 1px rgba(0, 0, 0, 0.15);\n",
              "      filter: drop-shadow(0px 1px 2px rgba(0, 0, 0, 0.3));\n",
              "      fill: #FFFFFF;\n",
              "    }\n",
              "  </style>\n",
              "\n",
              "      <script>\n",
              "        const buttonEl =\n",
              "          document.querySelector('#df-dee2913b-ab38-4f17-8f49-f73e391b3892 button.colab-df-convert');\n",
              "        buttonEl.style.display =\n",
              "          google.colab.kernel.accessAllowed ? 'block' : 'none';\n",
              "\n",
              "        async function convertToInteractive(key) {\n",
              "          const element = document.querySelector('#df-dee2913b-ab38-4f17-8f49-f73e391b3892');\n",
              "          const dataTable =\n",
              "            await google.colab.kernel.invokeFunction('convertToInteractive',\n",
              "                                                     [key], {});\n",
              "          if (!dataTable) return;\n",
              "\n",
              "          const docLinkHtml = 'Like what you see? Visit the ' +\n",
              "            '<a target=\"_blank\" href=https://colab.research.google.com/notebooks/data_table.ipynb>data table notebook</a>'\n",
              "            + ' to learn more about interactive tables.';\n",
              "          element.innerHTML = '';\n",
              "          dataTable['output_type'] = 'display_data';\n",
              "          await google.colab.output.renderOutput(dataTable, element);\n",
              "          const docLink = document.createElement('div');\n",
              "          docLink.innerHTML = docLinkHtml;\n",
              "          element.appendChild(docLink);\n",
              "        }\n",
              "      </script>\n",
              "    </div>\n",
              "  </div>\n",
              "  "
            ]
          },
          "metadata": {},
          "execution_count": 53
        }
      ]
    },
    {
      "cell_type": "code",
      "source": [
        "# drop high correlate columns \n",
        "# and imputation flags (start with \"Z\")\n",
        "High_Cor_cols = [c for c in Survey_Data.columns if ((\"KWH\" in c and len(c)>3) or \"BTUEL\" in c or c.startswith(\"Z\"))]\n",
        "Survey_Data.drop(columns=High_Cor_cols,inplace=True)"
      ],
      "metadata": {
        "id": "ey7So6DjXsMN"
      },
      "execution_count": 54,
      "outputs": []
    },
    {
      "cell_type": "code",
      "source": [
        "# drop columns with constant values\n",
        "columns_with_constant_values = []\n",
        "for c in Survey_Data.columns:\n",
        "  value_frequencies = Survey_Data[c].value_counts(normalize=True)\n",
        "  if value_frequencies.max()>=0.85:\n",
        "    columns_with_constant_values.append(c)\n",
        "print(len(columns_with_constant_values), \" columns with constant values are dropped.\")\n",
        "print(columns_with_constant_values)\n",
        "Survey_Data.drop(columns=columns_with_constant_values,inplace=True)"
      ],
      "metadata": {
        "colab": {
          "base_uri": "https://localhost:8080/"
        },
        "id": "ZNoW2y3Rcw_-",
        "outputId": "c7b139ad-9857-49a4-f205-81d917a0b9f8"
      },
      "execution_count": 55,
      "outputs": [
        {
          "output_type": "stream",
          "name": "stdout",
          "text": [
            "0  columns with constant values are dropped.\n",
            "[]\n"
          ]
        }
      ]
    },
    {
      "cell_type": "code",
      "source": [
        "# Check high corrlelated pairs\n",
        "high_corr = get_high_corr_df(Survey_Data)\n",
        "redundant_sets=[]\n",
        "for i,row in high_corr[abs((high_corr['CORRELATION'])>=0.90)].iterrows():\n",
        "  f1 = row['FEATURE_1']\n",
        "  f2 = row['FEATURE_2']\n",
        "  fset = {f1,f2}\n",
        "  belongs_to_sets = []\n",
        "  for j in range(len(redundant_sets)):\n",
        "    if len(redundant_sets[j].intersection(fset))!=0:  \n",
        "      belongs_to_sets.append(j)\n",
        "\n",
        "  if len(belongs_to_sets)==0:\n",
        "    redundant_sets.append(fset)\n",
        "  elif len(belongs_to_sets)==1:\n",
        "    redundant_sets[belongs_to_sets[0]].update(fset)\n",
        "  else:\n",
        "    sets_to_merge = [redundant_sets[j] for j in belongs_to_sets]\n",
        "    for sm in sets_to_merge:\n",
        "      redundant_sets.remove(sm)\n",
        "      fset.update(sm)\n",
        "    redundant_sets.append(fset)\n",
        "\n",
        "for s in redundant_sets:\n",
        "  print(s)"
      ],
      "metadata": {
        "colab": {
          "base_uri": "https://localhost:8080/"
        },
        "id": "35GcxfPecwzk",
        "outputId": "0c8278d5-46d4-4cae-8917-566e68ab2ddc"
      },
      "execution_count": 56,
      "outputs": [
        {
          "output_type": "stream",
          "name": "stdout",
          "text": [
            "{'REGIONC', 'DIVISION', 'REPORTABLE_DOMAIN'}\n",
            "{'NAPTFLRS', 'TYPEHUQ', 'STUDIO'}\n",
            "{'HDD50', 'HDD65', 'GND_HDD65', 'HDD30YR'}\n",
            "{'CDD30YR', 'CDD65'}\n",
            "{'HUPROJ', 'KOWNRENT'}\n",
            "{'YEARMADE', 'YEARMADERANGE'}\n",
            "{'TOTROOMS', 'OTHROOMS'}\n",
            "{'BASECOOL', 'BASEUSE', 'BASEFIN', 'BASEHEAT'}\n",
            "{'ATTCCOOL', 'ATTICUSE', 'ATTCHEAT', 'ATTICFIN'}\n",
            "{'GARGCOOL', 'GARGHEAT', 'SIZEOFGARAGE', 'GARGLOC'}\n",
            "{'TYPECLN', 'OVENCLN'}\n",
            "{'USEOTH', 'OUTGRILLFUEL'}\n",
            "{'REFRIGT2', 'SIZRFRI2', 'TYPERFR2', 'MONRFRI2', 'NUMFRIG'}\n",
            "{'SIZFREEZ', 'FREEZER', 'UPRTFRZR', 'NUMFREEZ', 'SEPFREEZ'}\n",
            "{'RNSETEMP', 'DRYER', 'TOPFRONT', 'WASHLOAD', 'WASHTEMP', 'CWASHER', 'DRYRUSE'}\n",
            "{'TVONWDWATCH1', 'TVONWEWATCH1'}\n",
            "{'TVAUDIOSYS2', 'DIGITSTB2', 'TVSIZE2', 'TVTYPE2', 'DVD2', 'VCR2', 'OTHERSTB2', 'PLAYSTA2', 'COMBOVCRDVD2'}\n",
            "{'TVONWE2', 'TVONWD2'}\n",
            "{'TVAUDIOSYS3', 'VCR3', 'TVONWD3', 'CABLESAT3', 'TVTYPE3', 'DVD3', 'TVONWE3', 'DIGITSTB3', 'OTHERSTB3', 'PLAYSTA3', 'COMBOVCRDVD3', 'DVR3', 'TVSIZE3'}\n",
            "{'INDSL', 'INCABLE', 'INDIALUP', 'INSATEL', 'INWIRELESS', 'PCONOFF1', 'PCTYPE1', 'PCPRINT', 'COMPUTER', 'INTERNET'}\n",
            "{'TIMEON2', 'PCONOFF2', 'PCTYPE2'}\n",
            "{'AUTOHEATNITE', 'AUTOHEATDAY'}\n",
            "{'TEMPNITE', 'TEMPHOME', 'TEMPGONE'}\n",
            "{'MOISTURE', 'USEMOISTURE'}\n",
            "{'FUELH2O', 'PELHOTWA', 'ELWATER'}\n",
            "{'AIRCOND', 'ELCOOL', 'COOLTYPE'}\n",
            "{'ACROOMS', 'PROTHERMAC', 'THERMAINAC', 'CENACHP', 'USECENAC', 'MAINTAC', 'PELAC', 'ACOTHERS'}\n",
            "{'AUTOCOOLDAY', 'AUTOCOOLNITE'}\n",
            "{'TEMPHOMEAC', 'TEMPGONEAC', 'TEMPNITEAC'}\n",
            "{'USEWWAC', 'NUMBERAC'}\n",
            "{'KAVALNG', 'PERIODNG', 'USENG', 'SCALENG'}\n",
            "{'LPOTHER', 'USELP'}\n",
            "{'PELHEAT', 'ELWARM'}\n",
            "{'ELFOOD', 'PELCOOK'}\n",
            "{'UGWARM', 'PGASHEAT'}\n",
            "{'PGASHTWA', 'UGWATER'}\n",
            "{'PUGCOOK', 'UGCOOK'}\n",
            "{'TOTSQFT', 'TOTSQFT_EN'}\n",
            "{'DOLELCOL', 'TOTALDOLCOL', 'TOTALBTUCOL'}\n",
            "{'TOTALDOLRFG', 'DOLELRFG'}\n",
            "{'TOTALDOLOTH', 'DOLELOTH'}\n",
            "{'DOLLARNG', 'CUFEETNGSPH', 'DOLNGSPH', 'BTUNG', 'BTUNGSPH', 'CUFEETNG'}\n",
            "{'BTUNGWTH', 'CUFEETNGWTH', 'DOLNGWTH'}\n",
            "{'CUFEETNGOTH', 'DOLNGOTH', 'BTUNGOTH'}\n"
          ]
        }
      ]
    },
    {
      "cell_type": "code",
      "source": [
        "for s in redundant_sets:\n",
        "  s.pop()\n",
        "  Survey_Data.drop(columns=list(s),inplace=True)"
      ],
      "metadata": {
        "id": "tHwo9VLpgQhI"
      },
      "execution_count": 57,
      "outputs": []
    },
    {
      "cell_type": "markdown",
      "source": [
        "### Train Test Spliting"
      ],
      "metadata": {
        "id": "YdNej3_ARJWN"
      }
    },
    {
      "cell_type": "code",
      "source": [
        "columns = Survey_Data.columns.tolist()\n",
        "y_cols = list(filter(lambda col: col != \"KWH\", columns))\n",
        "X = Survey_Data[y_cols]\n",
        "Y = Survey_Data['KWH']\n",
        "X_train, X_test, y_train, y_test = train_test_split(X, Y, test_size = 0.2, shuffle=True,\n",
        "    random_state=1)"
      ],
      "metadata": {
        "id": "BAiXK-3aiW51"
      },
      "execution_count": 58,
      "outputs": []
    },
    {
      "cell_type": "markdown",
      "source": [
        "### Encode Features"
      ],
      "metadata": {
        "id": "QNPFOGeCRaIn"
      }
    },
    {
      "cell_type": "code",
      "source": [
        "str_cols = X_train.select_dtypes(include = 'object').columns\n",
        "\n",
        "LE = LabelEncoder()\n",
        "for col in str_cols:\n",
        "  X_train[col] = LE.fit_transform(X_train[col].astype(str))\n",
        "  "
      ],
      "metadata": {
        "id": "Jmvr3mHNRNuw"
      },
      "execution_count": 59,
      "outputs": []
    },
    {
      "cell_type": "code",
      "source": [
        "X_train.columns"
      ],
      "metadata": {
        "colab": {
          "base_uri": "https://localhost:8080/"
        },
        "id": "Bd5PpCdVhygk",
        "outputId": "a776fa7f-a213-484c-c038-63e636e0729c"
      },
      "execution_count": 65,
      "outputs": [
        {
          "output_type": "execute_result",
          "data": {
            "text/plain": [
              "Index(['REGIONC', 'NWEIGHT', 'CDD30YR', 'Climate_Region_Pub', 'AIA_Zone', 'UR',\n",
              "       'YEARMADE', 'OCCUPYYRANGE', 'NUMFLRS', 'NUMAPTS',\n",
              "       ...\n",
              "       'PERIODEL', 'KAVALNG', 'IECC_Climate_Pub', 'HDD50', 'CDD80', 'WSF',\n",
              "       'OA_LAT', 'GWT', 'DesignDBT99', 'DesignDBT1'],\n",
              "      dtype='object', length=231)"
            ]
          },
          "metadata": {},
          "execution_count": 65
        }
      ]
    },
    {
      "cell_type": "markdown",
      "source": [
        "### FE Testing "
      ],
      "metadata": {
        "id": "XypiwIYTlKZH"
      }
    },
    {
      "cell_type": "code",
      "source": [
        "for col in str_cols:\n",
        "  X_test[col] = LE.fit_transform(X_test[col].astype(str))"
      ],
      "metadata": {
        "id": "9SxUy1UolJbA"
      },
      "execution_count": 69,
      "outputs": []
    },
    {
      "cell_type": "markdown",
      "source": [
        "### Build Model"
      ],
      "metadata": {
        "id": "PMybMGKtTGBg"
      }
    },
    {
      "cell_type": "code",
      "source": [
        "\n",
        "estimators = [('lgbm', GradientBoostingRegressor(random_state=42,max_depth=5)),\n",
        "              ('lr', LinearRegression()),\n",
        "              ('rc', RidgeCV())]\n",
        "\n",
        "stack = StackingRegressor(estimators=estimators[:-1],final_estimator=estimators[-1][1])\n",
        "print(\"Individual resutls:\")\n",
        "for estimator in estimators:\n",
        "  print(\"model: %s, score: %f\" %(estimator[0],estimator[1].fit(X_train, y_train).score(X_test, y_test)))\n",
        "  \n",
        "print(\"################\\nEnsemble result\")\n",
        "stack.fit(X_train, y_train).score(X_test, y_test)"
      ],
      "metadata": {
        "colab": {
          "base_uri": "https://localhost:8080/"
        },
        "id": "PQ7fzEIZSBq9",
        "outputId": "d0334fd7-11c3-48df-c39f-1925fba8760c"
      },
      "execution_count": 70,
      "outputs": [
        {
          "output_type": "stream",
          "name": "stdout",
          "text": [
            "Individual resutls:\n",
            "model: lgbm, score: 0.972915\n",
            "model: lr, score: 0.983777\n",
            "model: rc, score: 0.983773\n",
            "################\n",
            "Ensemble result\n"
          ]
        },
        {
          "output_type": "execute_result",
          "data": {
            "text/plain": [
              "0.9877420341599737"
            ]
          },
          "metadata": {},
          "execution_count": 70
        }
      ]
    }
  ]
}